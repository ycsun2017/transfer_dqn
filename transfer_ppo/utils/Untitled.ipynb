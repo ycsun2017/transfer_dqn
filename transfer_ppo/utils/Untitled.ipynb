{
 "cells": [
  {
   "cell_type": "code",
   "execution_count": 1,
   "metadata": {},
   "outputs": [],
   "source": [
    "import numpy as np\n",
    "import gym\n",
    "import torch"
   ]
  },
  {
   "cell_type": "code",
   "execution_count": 2,
   "metadata": {},
   "outputs": [],
   "source": [
    "env = gym.make('HalfCheetah-v3')"
   ]
  },
  {
   "cell_type": "code",
   "execution_count": 8,
   "metadata": {},
   "outputs": [],
   "source": [
    "obs_lst,t  = [], 0\n",
    "obs = env.reset()\n",
    "while t < 100000:\n",
    "    obs_lst.append(obs)\n",
    "    obs, _, done, _  = env.step(np.random.uniform(env.action_space.low, env.action_space.high))\n",
    "    obs_lst.append(obs)\n",
    "    if done:\n",
    "        obs = env.reset()\n",
    "    t+=1\n",
    "    "
   ]
  },
  {
   "cell_type": "code",
   "execution_count": 4,
   "metadata": {},
   "outputs": [
    {
     "data": {
      "text/plain": [
       "array([-0.1313595 ,  0.53531516,  0.007035  ,  0.01861835, -0.00180152,\n",
       "        0.03665675, -0.02344995, -0.02015619, -0.07165087, -0.01473392,\n",
       "       -0.00056798,  0.02806344, -0.05373638,  0.03396976,  0.00964424,\n",
       "        0.03094805, -0.00594213])"
      ]
     },
     "execution_count": 4,
     "metadata": {},
     "output_type": "execute_result"
    }
   ],
   "source": [
    "np.mean(np.asarray(obs_lst), axis=0)"
   ]
  },
  {
   "cell_type": "code",
   "execution_count": 9,
   "metadata": {},
   "outputs": [
    {
     "data": {
      "text/plain": [
       "array([-0.16134366,  0.73647401,  0.00407596,  0.01796829, -0.00228325,\n",
       "        0.03178342, -0.01983459, -0.0212972 , -0.0892334 , -0.01392782,\n",
       "        0.01172412,  0.01951365, -0.05801415,  0.03212379,  0.0057655 ,\n",
       "        0.03889271,  0.00887293])"
      ]
     },
     "execution_count": 9,
     "metadata": {},
     "output_type": "execute_result"
    }
   ],
   "source": [
    "np.mean(np.asarray(obs_lst), axis=0)"
   ]
  },
  {
   "cell_type": "code",
   "execution_count": 12,
   "metadata": {},
   "outputs": [],
   "source": [
    "x = np.eye(3)\n",
    "y = np.ones(3)"
   ]
  },
  {
   "cell_type": "code",
   "execution_count": 15,
   "metadata": {},
   "outputs": [
    {
     "data": {
      "text/plain": [
       "array([[ 0., -1., -1.],\n",
       "       [-1.,  0., -1.],\n",
       "       [-1., -1.,  0.]])"
      ]
     },
     "execution_count": 15,
     "metadata": {},
     "output_type": "execute_result"
    }
   ],
   "source": [
    "(x - y)/y"
   ]
  },
  {
   "cell_type": "code",
   "execution_count": null,
   "metadata": {},
   "outputs": [],
   "source": []
  }
 ],
 "metadata": {
  "kernelspec": {
   "display_name": "Python 3",
   "language": "python",
   "name": "python3"
  },
  "language_info": {
   "codemirror_mode": {
    "name": "ipython",
    "version": 3
   },
   "file_extension": ".py",
   "mimetype": "text/x-python",
   "name": "python",
   "nbconvert_exporter": "python",
   "pygments_lexer": "ipython3",
   "version": "3.7.0"
  }
 },
 "nbformat": 4,
 "nbformat_minor": 4
}
